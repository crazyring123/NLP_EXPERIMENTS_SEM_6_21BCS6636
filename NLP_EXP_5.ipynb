{
  "nbformat": 4,
  "nbformat_minor": 0,
  "metadata": {
    "colab": {
      "provenance": []
    },
    "kernelspec": {
      "name": "python3",
      "display_name": "Python 3"
    },
    "language_info": {
      "name": "python"
    }
  },
  "cells": [
    {
      "cell_type": "code",
      "execution_count": 40,
      "metadata": {
        "id": "LdKlNKT0fB_u"
      },
      "outputs": [],
      "source": [
        "import nltk\n",
        "from nltk.tokenize import word_tokenize\n",
        "from collections import Counter\n"
      ]
    },
    {
      "cell_type": "code",
      "source": [
        "text = \"Tokenization is an important step in natural language processing. It helps in breaking down text into individual words or tokens.\""
      ],
      "metadata": {
        "id": "84R0MJSnfH73"
      },
      "execution_count": 41,
      "outputs": []
    },
    {
      "cell_type": "code",
      "source": [
        "tokens = text.split()"
      ],
      "metadata": {
        "id": "c4yEoXDflPky"
      },
      "execution_count": 42,
      "outputs": []
    },
    {
      "cell_type": "code",
      "source": [
        "print(word_tokenize(text))"
      ],
      "metadata": {
        "colab": {
          "base_uri": "https://localhost:8080/"
        },
        "id": "sB_CKtIchab8",
        "outputId": "bef5cb27-b6e1-4e51-8bf1-33ed52064373"
      },
      "execution_count": 43,
      "outputs": [
        {
          "output_type": "stream",
          "name": "stdout",
          "text": [
            "['Tokenization', 'is', 'an', 'important', 'step', 'in', 'natural', 'language', 'processing', '.', 'It', 'helps', 'in', 'breaking', 'down', 'text', 'into', 'individual', 'words', 'or', 'tokens', '.']\n"
          ]
        }
      ]
    },
    {
      "cell_type": "code",
      "source": [
        "word_freq = {}\n"
      ],
      "metadata": {
        "id": "4v3Z94UrkdgM"
      },
      "execution_count": 44,
      "outputs": []
    },
    {
      "cell_type": "code",
      "source": [
        "for token in tokens:\n",
        "    token = token.strip(\".,!?;:\")\n",
        "    token = token.lower()\n",
        "    if token in word_freq:\n",
        "        word_freq[token] += 1\n",
        "    else:\n",
        "        word_freq[token] = 1\n"
      ],
      "metadata": {
        "id": "jnsJU7TskhKT"
      },
      "execution_count": 45,
      "outputs": []
    },
    {
      "cell_type": "code",
      "source": [
        "for word, freq in word_freq.items():\n",
        "    print(f\"{word}: {freq}\")\n"
      ],
      "metadata": {
        "colab": {
          "base_uri": "https://localhost:8080/"
        },
        "id": "w23aSZnjjItY",
        "outputId": "d67588e7-03bb-47e0-8d0b-6ffcdfe72279"
      },
      "execution_count": 46,
      "outputs": [
        {
          "output_type": "stream",
          "name": "stdout",
          "text": [
            "tokenization: 1\n",
            "is: 1\n",
            "an: 1\n",
            "important: 1\n",
            "step: 1\n",
            "in: 2\n",
            "natural: 1\n",
            "language: 1\n",
            "processing: 1\n",
            "it: 1\n",
            "helps: 1\n",
            "breaking: 1\n",
            "down: 1\n",
            "text: 1\n",
            "into: 1\n",
            "individual: 1\n",
            "words: 1\n",
            "or: 1\n",
            "tokens: 1\n"
          ]
        }
      ]
    }
  ]
}